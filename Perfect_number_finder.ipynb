{
  "nbformat": 4,
  "nbformat_minor": 0,
  "metadata": {
    "colab": {
      "name": "Perfect number finder.ipynb",
      "provenance": [],
      "collapsed_sections": [],
      "authorship_tag": "ABX9TyMYrwLn7v3O6Dni2C6ZufEW",
      "include_colab_link": true
    },
    "kernelspec": {
      "name": "python3",
      "display_name": "Python 3"
    }
  },
  "cells": [
    {
      "cell_type": "markdown",
      "metadata": {
        "id": "view-in-github",
        "colab_type": "text"
      },
      "source": [
        "<a href=\"https://colab.research.google.com/github/durg3sh10/Perfect-Number-finder/blob/main/Perfect_number_finder.ipynb\" target=\"_parent\"><img src=\"https://colab.research.google.com/assets/colab-badge.svg\" alt=\"Open In Colab\"/></a>"
      ]
    },
    {
      "cell_type": "code",
      "metadata": {
        "id": "5yvRX6fu2G1Y"
      },
      "source": [
        ""
      ],
      "execution_count": null,
      "outputs": []
    },
    {
      "cell_type": "code",
      "metadata": {
        "id": "AKIknzyEtKWX",
        "colab": {
          "base_uri": "https://localhost:8080/"
        },
        "outputId": "f0873d77-944f-470c-9617-7b8e6738dc87"
      },
      "source": [
        "# Using a while loop check if a number is a perfect number\r\n",
        "\r\n",
        "perfect_number_candidate = int(input(\"Please enter a number\"))\r\n",
        "print(f\"The number entered is {perfect_number_candidate}\")\r\n",
        "i = 1\r\n",
        "x=0\r\n",
        "while i <perfect_number_candidate:\r\n",
        "  if perfect_number_candidate%i == 0:\r\n",
        "    x = x + i \r\n",
        "  i+=1\r\n",
        "\r\n",
        "\r\n",
        "if  x == perfect_number_candidate:\r\n",
        "  print(f\" The number {perfect_number_candidate} is perfect number\")\r\n",
        "else:\r\n",
        "  print(f\"The number {perfect_number_candidate} is not a perfect number \")\r\n",
        "\r\n",
        "\r\n",
        "\r\n",
        "\r\n",
        "\r\n",
        "\r\n",
        "\r\n"
      ],
      "execution_count": 4,
      "outputs": [
        {
          "output_type": "stream",
          "text": [
            "Please enter a number28\n",
            "The number entered is 28\n",
            " The number 28 is perfect number\n"
          ],
          "name": "stdout"
        }
      ]
    }
  ]
}